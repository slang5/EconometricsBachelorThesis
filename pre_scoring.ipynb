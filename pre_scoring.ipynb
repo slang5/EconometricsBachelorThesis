{
 "cells": [
  {
   "cell_type": "code",
   "execution_count": 25,
   "metadata": {},
   "outputs": [],
   "source": [
    "#importation des packages\n",
    "import pandas as pds\n",
    "\n",
    "#importation des données \n",
    "Data = pds.read_csv(\"LoanData.csv\",delimiter=\";\") #index_col=False"
   ]
  },
  {
   "cell_type": "code",
   "execution_count": 28,
   "metadata": {},
   "outputs": [
    {
     "name": "stdout",
     "output_type": "stream",
     "text": [
      "(79950, 62)\n",
      "LoanId                                     0\n",
      "EmploymentDurationCurrentEmployer_+5       0\n",
      "EmploymentDurationCurrentEmployer_Trial    0\n",
      "EmploymentDurationCurrentEmployer_max1     0\n",
      "EmploymentDurationCurrentEmployer_max2     0\n",
      "                                          ..\n",
      "Entrepreneur                               0\n",
      "Retiree                                    0\n",
      "AppliedAmount                              0\n",
      "Country_FI                                 0\n",
      "Rate_F                                     0\n",
      "Length: 62, dtype: int64\n",
      "LoanId                                     0\n",
      "EmploymentDurationCurrentEmployer_+5       0\n",
      "EmploymentDurationCurrentEmployer_Trial    0\n",
      "EmploymentDurationCurrentEmployer_max1     0\n",
      "EmploymentDurationCurrentEmployer_max2     0\n",
      "                                          ..\n",
      "Entrepreneur                               0\n",
      "Retiree                                    0\n",
      "AppliedAmount                              0\n",
      "Country_FI                                 0\n",
      "Rate_F                                     0\n",
      "Length: 62, dtype: int64\n",
      "(79950, 62)\n"
     ]
    }
   ],
   "source": [
    "print(Data.shape) #format de la matrice \n",
    "\n",
    "count_null=Data.isna().sum()\n",
    "Z= (count_null.sort_values(ascending=True)) \n",
    "print(Z) #on regarde pour quelles variables il manque le plus de données\n",
    "\n",
    "Data = Data.dropna(axis=0,subset=[\"ProbabilityOfDefault\",\"MonthlyPayment\"]) #on retire les observations où il manque le plus de données\n",
    "count_null=Data.isna().sum()\n",
    "Z= (count_null.sort_values(ascending=True))\n",
    "print(Z) #Il ne manque plus aucune donnée\n",
    "print(Data.shape)"
   ]
  },
  {
   "cell_type": "code",
   "execution_count": 31,
   "metadata": {},
   "outputs": [
    {
     "name": "stdout",
     "output_type": "stream",
     "text": [
      "Index(['LoanId', 'Default', 'NewCreditCustomer', 'LoanDate',\n",
      "       'VerificationType', 'Language_Estonian ', 'Language_English',\n",
      "       'Language_Russian', 'Language_Finnish', 'Language_German',\n",
      "       'Language_German.1', 'Language_Slovakian', 'Country_EE', 'Country_ES',\n",
      "       'Country_NL', 'Country_FI', 'Country_SK', 'Age', 'Gender_woman',\n",
      "       'Gender_Undefined', 'Education', 'MaritalStatus', 'Unemployed ',\n",
      "       'Partially_employed', 'Fully_employed', 'Self_employed', 'Entrepreneur',\n",
      "       'Retiree', 'AppliedAmount', 'Interest', 'LoanDuration',\n",
      "       'MonthlyPayment', 'UseOfLoan', 'EmploymentDurationCurrentEmployer_+5',\n",
      "       'EmploymentDurationCurrentEmployer_Trial',\n",
      "       'EmploymentDurationCurrentEmployer_max1',\n",
      "       'EmploymentDurationCurrentEmployer_max2',\n",
      "       'EmploymentDurationCurrentEmployer_max3',\n",
      "       'EmploymentDurationCurrentEmployer_max4',\n",
      "       'EmploymentDurationCurrentEmployer_max5',\n",
      "       'EmploymentDurationCurrentEmployer_retiree',\n",
      "       'EmploymentDurationCurrentEmployer_other',\n",
      "       'IncomeFromPrincipalEmployer', 'IncomeFromPension',\n",
      "       'IncomeFromFamilyAllowance', 'IncomeFromSocialWelfare',\n",
      "       'IncomeFromLeavePay', 'IncomeFromChildSupport', 'IncomeOther',\n",
      "       'IncomeTotal', 'LiabilitiesTotal', 'DebtToIncome', 'FreeCash',\n",
      "       'ProbabilityOfDefault', 'Rate_AA', 'Rate_HR', 'Rate_A', 'Rate_B',\n",
      "       'Rate_C', 'Rate_D', 'Rate_E', 'Rate_F'],\n",
      "      dtype='object')\n"
     ]
    }
   ],
   "source": [
    "print((Data.columns))"
   ]
  },
  {
   "cell_type": "code",
   "execution_count": 27,
   "metadata": {},
   "outputs": [],
   "source": [
    "#on transforme la date du prêt afin que cela soit une variable quantitative\n",
    "Data.LoanDate = Data.LoanDate.str[6:].astype(float) + Data.LoanDate.str[3:5].astype(float) /12  \n",
    "\n",
    "#Data.to_csv(\"intermediaire.csv\") # À ce moment, nous avons une base de donnée propre "
   ]
  }
 ],
 "metadata": {
  "kernelspec": {
   "display_name": "Python 3",
   "language": "python",
   "name": "python3"
  },
  "language_info": {
   "codemirror_mode": {
    "name": "ipython",
    "version": 3
   },
   "file_extension": ".py",
   "mimetype": "text/x-python",
   "name": "python",
   "nbconvert_exporter": "python",
   "pygments_lexer": "ipython3",
   "version": "3.10.11"
  },
  "orig_nbformat": 4
 },
 "nbformat": 4,
 "nbformat_minor": 2
}
