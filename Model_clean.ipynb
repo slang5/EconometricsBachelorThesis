{
 "cells": [
  {
   "cell_type": "code",
   "execution_count": 1,
   "metadata": {},
   "outputs": [
    {
     "name": "stdout",
     "output_type": "stream",
     "text": [
      "(79950, 49)\n"
     ]
    }
   ],
   "source": [
    "import pandas as pds\n",
    "import numpy as npy\n",
    "import matplotlib as mpl\n",
    "import matplotlib.pyplot as plt\n",
    "from sklearn.model_selection import KFold,train_test_split,cross_val_score\n",
    "from sklearn.metrics import roc_auc_score,accuracy_score\n",
    "from sklearn.linear_model import LogisticRegression\n",
    "from sklearn.ensemble import RandomForestClassifier\n",
    "\n",
    "Data_all = (pds.read_csv(\"intermediaire.csv\",delimiter=\";\"))\n",
    "Data_C = Data_all.drop([\"LoanId\"],axis=1) \n",
    "Data_A = Data_C.drop(['ProbabilityOfDefault', 'Rate_AA', 'Rate_A', 'Rate_B', 'Rate_C','Rate_D', 'Rate_E', 'Rate_F', 'Rate_HR'],axis=1) #retrait des 9 variables de Bondora\n",
    "Data_B = Data_C.drop(['NewCreditCustomer', 'LoanDate', 'VerificationType','Language_Estonian ', 'Language_English', 'Language_Russian','Language_Finnish', 'Language_German', 'Language_Slovakian','Country_EE', 'Country_ES', 'Country_FI', 'Country_SK', 'Age','Gender_woman', 'Gender_Undefined', 'Education', 'MaritalStatus','Unemployed', 'Partially_employed', 'Fully_employed', 'Self_employed','Entrepreneur', 'Retiree', 'AppliedAmount', 'Interest', 'LoanDuration','MonthlyPayment', 'UseOfLoan', 'EmploymentDurationCurrentEmployer_+5','EmploymentDurationCurrentEmployer_Trial','EmploymentDurationCurrentEmployer_max1','EmploymentDurationCurrentEmployer_max2','EmploymentDurationCurrentEmployer_max3','EmploymentDurationCurrentEmployer_max4','EmploymentDurationCurrentEmployer_max5','EmploymentDurationCurrentEmployer_retiree','EmploymentDurationCurrentEmployer_other','IncomeFromPrincipalEmployer', 'IncomeFromPension','IncomeFromFamilyAllowance', 'IncomeFromSocialWelfare','IncomeFromLeavePay', 'IncomeFromChildSupport', 'IncomeOther','IncomeTotal', 'LiabilitiesTotal', 'DebtToIncome', 'FreeCash'], axis=1) # retrait des variables sur prêt et particulier\n",
    "Variable_A = Data_A.columns\n",
    "Variable_B = Data_B.columns\n",
    "Variable_C = Data_C.columns\n",
    "\n",
    "Data_A_X=npy.array(Data_A).T[1:].T\n",
    "Data_A_Y=npy.array(Data_A).T[:1].T.reshape(len(Data_A_X),)\n",
    "print(Data_A_X.shape)\n",
    "\n",
    "Data_B_X=npy.array(Data_B).T[1:].T\n",
    "Data_B_Y=npy.array(Data_B).T[:1].T.reshape(len(Data_B_X),)\n",
    "\n",
    "Data_C_X=npy.array(Data_C).T[1:].T\n",
    "Data_C_Y=npy.array(Data_C).T[:1].T.reshape(len(Data_C_X),)\n"
   ]
  },
  {
   "cell_type": "code",
   "execution_count": 196,
   "metadata": {},
   "outputs": [
    {
     "data": {
      "text/plain": [
       "'print(Data_A_X)\\nprint(Data_A_Y)\\n\\nprint(Data_B_X)\\nprint(Data_B_Y)\\n\\nprint(Data_C_X)\\nprint(Data_C_Y)\\n'"
      ]
     },
     "execution_count": 196,
     "metadata": {},
     "output_type": "execute_result"
    }
   ],
   "source": [
    "\"\"\"print(Data_A_X)\n",
    "print(Data_A_Y)\n",
    "\n",
    "print(Data_B_X)\n",
    "print(Data_B_Y)\n",
    "\n",
    "print(Data_C_X)\n",
    "print(Data_C_Y)\n",
    "\"\"\"\n",
    "#Data_A_X_train, Data_A_Y_train,Data_A_X_test,Data_A_X_test = train_test_split(Data_A_X,Data_A_Y,test_size=0.5,random_state=0)\n",
    "#Data_B_X_train, Data_B_Y_train,Data_B_X_test,Data_B_X_test = train_test_split(Data_B_X,Data_B_Y,test_size=0.5,random_state=0)\n",
    "#Data_C_X_train, Data_C_Y_train,Data_C_X_test,Data_C_X_test = train_test_split(Data_C_X,Data_C_Y,test_size=0.5,random_state=0)\n"
   ]
  },
  {
   "cell_type": "code",
   "execution_count": 2,
   "metadata": {},
   "outputs": [],
   "source": [
    "def repartir(Matrix,k):\n",
    "    Split = KFold(k,shuffle=True)\n",
    "    Split.split(Matrix)\n",
    "    INDEX_FOLD = []\n",
    "    for i,(train,test) in enumerate(Split.split(Matrix)):\n",
    "        INDEX_FOLD.append([i,train,test])\n",
    "    return INDEX_FOLD\n",
    "\n",
    "INDEX_FOLD_A = repartir(Data_A_X,2)\n",
    "INDEX_FOLD_B = repartir(Data_B_X,2)\n",
    "INDEX_FOLD_C = repartir(Data_C_X,2)\n"
   ]
  },
  {
   "cell_type": "code",
   "execution_count": 3,
   "metadata": {},
   "outputs": [],
   "source": [
    "logit = LogisticRegression(max_iter=2000)\n",
    "RF = RandomForestClassifier(n_estimators=50,criterion=\"gini\",max_depth=5,min_samples_leaf=10)\n",
    "\n",
    "def performance_evaluation(matrixX,matrixY,Index_fold,model):\n",
    "    performance_model = []\n",
    "    n=0\n",
    "    \n",
    "    model.fit(matrixX[Index_fold[0][1]],matrixY[Index_fold[0][1]])\n",
    "    for i in Index_fold:\n",
    "        ACC = accuracy_score(matrixY[i[1]],model.predict(matrixX[i[1]]))\n",
    "        AUC = roc_auc_score(matrixY[i[1]],model.predict(matrixX[i[1]]))\n",
    "        performance_model.append([\"fold_{0}\".format(n),ACC,AUC])\n",
    "        n+=1\n",
    "    return performance_model\n"
   ]
  },
  {
   "cell_type": "code",
   "execution_count": 199,
   "metadata": {},
   "outputs": [
    {
     "name": "stderr",
     "output_type": "stream",
     "text": [
      "C:\\Users\\luang\\AppData\\Local\\Packages\\PythonSoftwareFoundation.Python.3.10_qbz5n2kfra8p0\\LocalCache\\local-packages\\Python310\\site-packages\\sklearn\\linear_model\\_logistic.py:458: ConvergenceWarning: lbfgs failed to converge (status=1):\n",
      "STOP: TOTAL NO. of ITERATIONS REACHED LIMIT.\n",
      "\n",
      "Increase the number of iterations (max_iter) or scale the data as shown in:\n",
      "    https://scikit-learn.org/stable/modules/preprocessing.html\n",
      "Please also refer to the documentation for alternative solver options:\n",
      "    https://scikit-learn.org/stable/modules/linear_model.html#logistic-regression\n",
      "  n_iter_i = _check_optimize_result(\n",
      "C:\\Users\\luang\\AppData\\Local\\Packages\\PythonSoftwareFoundation.Python.3.10_qbz5n2kfra8p0\\LocalCache\\local-packages\\Python310\\site-packages\\sklearn\\linear_model\\_logistic.py:458: ConvergenceWarning: lbfgs failed to converge (status=1):\n",
      "STOP: TOTAL NO. of ITERATIONS REACHED LIMIT.\n",
      "\n",
      "Increase the number of iterations (max_iter) or scale the data as shown in:\n",
      "    https://scikit-learn.org/stable/modules/preprocessing.html\n",
      "Please also refer to the documentation for alternative solver options:\n",
      "    https://scikit-learn.org/stable/modules/linear_model.html#logistic-regression\n",
      "  n_iter_i = _check_optimize_result(\n"
     ]
    }
   ],
   "source": [
    "logit_A = performance_evaluation(Data_A_X,Data_A_Y,INDEX_FOLD_A,logit)\n",
    "logit_B = performance_evaluation(Data_B_X,Data_B_Y,INDEX_FOLD_B,logit)\n",
    "logit_C = performance_evaluation(Data_C_X,Data_C_Y,INDEX_FOLD_C,logit)\n",
    "\n",
    "RF_A = performance_evaluation(Data_A_X,Data_A_Y,INDEX_FOLD_A,RF)\n",
    "RF_B = performance_evaluation(Data_B_X,Data_B_Y,INDEX_FOLD_B,RF)\n",
    "RF_C = performance_evaluation(Data_C_X,Data_C_Y,INDEX_FOLD_C,RF)"
   ]
  },
  {
   "cell_type": "code",
   "execution_count": 14,
   "metadata": {},
   "outputs": [
    {
     "data": {
      "text/plain": [
       "'ACC_data_Logit,AUC_data_Logit = tableau_modele_ACC_AUC(logit_A,logit_B,logit_C)\\nACC_data_RF,AUC_data_RF = tableau_modele_ACC_AUC(RF_A,RF_B,RF_C)\\nplt.title(\"Modèle Logistique (couleur claire) versus Modèle Random Forest (couleur sombre)\")\\nplt.xlabel(\"Score ACC\")\\nplt.ylabel(\"Score AUC\")\\nfor i in range(0,3):\\n    plt.scatter(ACC_data_RF[0][0][i],ACC_data_RF[0][1][i],color=color[1][i])\\n    plt.scatter(ACC_data_Logit[0][0][i],ACC_data_Logit[0][1][i],color=color[0][i])\\n\\n'"
      ]
     },
     "execution_count": 14,
     "metadata": {},
     "output_type": "execute_result"
    }
   ],
   "source": [
    "\"\"\"\n",
    "print(logit_A)\n",
    "print(logit_B)\n",
    "print(logit_C)\n",
    "print(RF_A)\n",
    "print(RF_B)\n",
    "print(RF_C)\"\"\"\n",
    "\n",
    "def tableau_modele_ACC_AUC(resultatsA):#,resultatsB,resultatsC):\n",
    "    tableau_AUC = []\n",
    "    tableau_ACC = []\n",
    "\n",
    "    ACC_train = resultatsA[0][1]#,resultatsB[0][1],resultatsC[0][1]\n",
    "    AUC_train = resultatsA[0][2]#,resultatsB[0][2],resultatsC[0][2]\n",
    "    ACC_test = resultatsA[1][1]#,resultatsB[1][1],resultatsC[1][1]\n",
    "    AUC_test = resultatsA[1][2]#,resultatsB[1][2],resultatsC[1][2]\n",
    "\n",
    "    tableau_ACC.append([ACC_train,ACC_test])\n",
    "    tableau_AUC.append(AUC_train,AUC_test)\n",
    "    return tableau_ACC,tableau_AUC\n",
    "color = [[\"lightskyblue\",\"salmon\",\"lawngreen\"],[\"darkblue\",\"darkred\",\"darkgreen\"]]\n",
    "\n",
    "\"\"\"ACC_data_Logit,AUC_data_Logit = tableau_modele_ACC_AUC(logit_A,logit_B,logit_C)\n",
    "ACC_data_RF,AUC_data_RF = tableau_modele_ACC_AUC(RF_A,RF_B,RF_C)\n",
    "plt.title(\"Modèle Logistique (couleur claire) versus Modèle Random Forest (couleur sombre)\")\n",
    "plt.xlabel(\"Score ACC\")\n",
    "plt.ylabel(\"Score AUC\")\n",
    "for i in range(0,3):\n",
    "    plt.scatter(ACC_data_RF[0][0][i],ACC_data_RF[0][1][i],color=color[1][i])\n",
    "    plt.scatter(ACC_data_Logit[0][0][i],ACC_data_Logit[0][1][i],color=color[0][i])\"\"\"\n"
   ]
  },
  {
   "cell_type": "code",
   "execution_count": null,
   "metadata": {},
   "outputs": [],
   "source": [
    "plt.title(\"Modèle Logistique (couleur claire) versus Modèle Random Forest (couleur sombre)\")\n",
    "plt.xlabel(\"Score ACC\")\n",
    "plt.ylabel(\"Score AUC\")\n",
    "for i in range(0,11):\n",
    "    INDEX_FOLD_A = repartir(Data_A_X,2)\n",
    "    INDEX_FOLD_B = repartir(Data_B_X,2)\n",
    "    INDEX_FOLD_C = repartir(Data_C_X,2)\n",
    "    logit_A = performance_evaluation(Data_A_X,Data_A_Y,INDEX_FOLD_A,logit)\n",
    "    logit_B = performance_evaluation(Data_B_X,Data_B_Y,INDEX_FOLD_B,logit)\n",
    "    logit_C = performance_evaluation(Data_C_X,Data_C_Y,INDEX_FOLD_C,logit)\n",
    "\n",
    "    RF_A = performance_evaluation(Data_A_X,Data_A_Y,INDEX_FOLD_A,RF)\n",
    "    RF_B = performance_evaluation(Data_B_X,Data_B_Y,INDEX_FOLD_B,RF)\n",
    "    RF_C = performance_evaluation(Data_C_X,Data_C_Y,INDEX_FOLD_C,RF)\n",
    "    ACC_data_Logit,AUC_data_Logit = tableau_modele_ACC_AUC(logit_A,logit_B,logit_C)\n",
    "    ACC_data_RF,AUC_data_RF = tableau_modele_ACC_AUC(RF_A,RF_B,RF_C)\n",
    "    for i in range(0,3):\n",
    "        plt.scatter(ACC_data_RF[0][0][i],ACC_data_RF[0][1][i],color=color[1][i])\n",
    "        plt.scatter(ACC_data_Logit[0][0][i],ACC_data_Logit[0][1][i],color=color[0][i])\n",
    "plt.show()"
   ]
  },
  {
   "cell_type": "code",
   "execution_count": 25,
   "metadata": {},
   "outputs": [
    {
     "name": "stderr",
     "output_type": "stream",
     "text": [
      "C:\\Users\\luang\\AppData\\Local\\Packages\\PythonSoftwareFoundation.Python.3.10_qbz5n2kfra8p0\\LocalCache\\local-packages\\Python310\\site-packages\\sklearn\\linear_model\\_logistic.py:458: ConvergenceWarning: lbfgs failed to converge (status=1):\n",
      "STOP: TOTAL NO. of ITERATIONS REACHED LIMIT.\n",
      "\n",
      "Increase the number of iterations (max_iter) or scale the data as shown in:\n",
      "    https://scikit-learn.org/stable/modules/preprocessing.html\n",
      "Please also refer to the documentation for alternative solver options:\n",
      "    https://scikit-learn.org/stable/modules/linear_model.html#logistic-regression\n",
      "  n_iter_i = _check_optimize_result(\n",
      "C:\\Users\\luang\\AppData\\Local\\Packages\\PythonSoftwareFoundation.Python.3.10_qbz5n2kfra8p0\\LocalCache\\local-packages\\Python310\\site-packages\\sklearn\\linear_model\\_logistic.py:458: ConvergenceWarning: lbfgs failed to converge (status=1):\n",
      "STOP: TOTAL NO. of ITERATIONS REACHED LIMIT.\n",
      "\n",
      "Increase the number of iterations (max_iter) or scale the data as shown in:\n",
      "    https://scikit-learn.org/stable/modules/preprocessing.html\n",
      "Please also refer to the documentation for alternative solver options:\n",
      "    https://scikit-learn.org/stable/modules/linear_model.html#logistic-regression\n",
      "  n_iter_i = _check_optimize_result(\n",
      "C:\\Users\\luang\\AppData\\Local\\Packages\\PythonSoftwareFoundation.Python.3.10_qbz5n2kfra8p0\\LocalCache\\local-packages\\Python310\\site-packages\\sklearn\\linear_model\\_logistic.py:458: ConvergenceWarning: lbfgs failed to converge (status=1):\n",
      "STOP: TOTAL NO. of ITERATIONS REACHED LIMIT.\n",
      "\n",
      "Increase the number of iterations (max_iter) or scale the data as shown in:\n",
      "    https://scikit-learn.org/stable/modules/preprocessing.html\n",
      "Please also refer to the documentation for alternative solver options:\n",
      "    https://scikit-learn.org/stable/modules/linear_model.html#logistic-regression\n",
      "  n_iter_i = _check_optimize_result(\n",
      "C:\\Users\\luang\\AppData\\Local\\Packages\\PythonSoftwareFoundation.Python.3.10_qbz5n2kfra8p0\\LocalCache\\local-packages\\Python310\\site-packages\\sklearn\\linear_model\\_logistic.py:458: ConvergenceWarning: lbfgs failed to converge (status=1):\n",
      "STOP: TOTAL NO. of ITERATIONS REACHED LIMIT.\n",
      "\n",
      "Increase the number of iterations (max_iter) or scale the data as shown in:\n",
      "    https://scikit-learn.org/stable/modules/preprocessing.html\n",
      "Please also refer to the documentation for alternative solver options:\n",
      "    https://scikit-learn.org/stable/modules/linear_model.html#logistic-regression\n",
      "  n_iter_i = _check_optimize_result(\n",
      "C:\\Users\\luang\\AppData\\Local\\Packages\\PythonSoftwareFoundation.Python.3.10_qbz5n2kfra8p0\\LocalCache\\local-packages\\Python310\\site-packages\\sklearn\\linear_model\\_logistic.py:458: ConvergenceWarning: lbfgs failed to converge (status=1):\n",
      "STOP: TOTAL NO. of ITERATIONS REACHED LIMIT.\n",
      "\n",
      "Increase the number of iterations (max_iter) or scale the data as shown in:\n",
      "    https://scikit-learn.org/stable/modules/preprocessing.html\n",
      "Please also refer to the documentation for alternative solver options:\n",
      "    https://scikit-learn.org/stable/modules/linear_model.html#logistic-regression\n",
      "  n_iter_i = _check_optimize_result(\n",
      "C:\\Users\\luang\\AppData\\Local\\Packages\\PythonSoftwareFoundation.Python.3.10_qbz5n2kfra8p0\\LocalCache\\local-packages\\Python310\\site-packages\\sklearn\\linear_model\\_logistic.py:458: ConvergenceWarning: lbfgs failed to converge (status=1):\n",
      "STOP: TOTAL NO. of ITERATIONS REACHED LIMIT.\n",
      "\n",
      "Increase the number of iterations (max_iter) or scale the data as shown in:\n",
      "    https://scikit-learn.org/stable/modules/preprocessing.html\n",
      "Please also refer to the documentation for alternative solver options:\n",
      "    https://scikit-learn.org/stable/modules/linear_model.html#logistic-regression\n",
      "  n_iter_i = _check_optimize_result(\n",
      "C:\\Users\\luang\\AppData\\Local\\Packages\\PythonSoftwareFoundation.Python.3.10_qbz5n2kfra8p0\\LocalCache\\local-packages\\Python310\\site-packages\\sklearn\\linear_model\\_logistic.py:458: ConvergenceWarning: lbfgs failed to converge (status=1):\n",
      "STOP: TOTAL NO. of ITERATIONS REACHED LIMIT.\n",
      "\n",
      "Increase the number of iterations (max_iter) or scale the data as shown in:\n",
      "    https://scikit-learn.org/stable/modules/preprocessing.html\n",
      "Please also refer to the documentation for alternative solver options:\n",
      "    https://scikit-learn.org/stable/modules/linear_model.html#logistic-regression\n",
      "  n_iter_i = _check_optimize_result(\n",
      "C:\\Users\\luang\\AppData\\Local\\Packages\\PythonSoftwareFoundation.Python.3.10_qbz5n2kfra8p0\\LocalCache\\local-packages\\Python310\\site-packages\\sklearn\\linear_model\\_logistic.py:458: ConvergenceWarning: lbfgs failed to converge (status=1):\n",
      "STOP: TOTAL NO. of ITERATIONS REACHED LIMIT.\n",
      "\n",
      "Increase the number of iterations (max_iter) or scale the data as shown in:\n",
      "    https://scikit-learn.org/stable/modules/preprocessing.html\n",
      "Please also refer to the documentation for alternative solver options:\n",
      "    https://scikit-learn.org/stable/modules/linear_model.html#logistic-regression\n",
      "  n_iter_i = _check_optimize_result(\n",
      "C:\\Users\\luang\\AppData\\Local\\Packages\\PythonSoftwareFoundation.Python.3.10_qbz5n2kfra8p0\\LocalCache\\local-packages\\Python310\\site-packages\\sklearn\\linear_model\\_logistic.py:458: ConvergenceWarning: lbfgs failed to converge (status=1):\n",
      "STOP: TOTAL NO. of ITERATIONS REACHED LIMIT.\n",
      "\n",
      "Increase the number of iterations (max_iter) or scale the data as shown in:\n",
      "    https://scikit-learn.org/stable/modules/preprocessing.html\n",
      "Please also refer to the documentation for alternative solver options:\n",
      "    https://scikit-learn.org/stable/modules/linear_model.html#logistic-regression\n",
      "  n_iter_i = _check_optimize_result(\n",
      "C:\\Users\\luang\\AppData\\Local\\Packages\\PythonSoftwareFoundation.Python.3.10_qbz5n2kfra8p0\\LocalCache\\local-packages\\Python310\\site-packages\\sklearn\\linear_model\\_logistic.py:458: ConvergenceWarning: lbfgs failed to converge (status=1):\n",
      "STOP: TOTAL NO. of ITERATIONS REACHED LIMIT.\n",
      "\n",
      "Increase the number of iterations (max_iter) or scale the data as shown in:\n",
      "    https://scikit-learn.org/stable/modules/preprocessing.html\n",
      "Please also refer to the documentation for alternative solver options:\n",
      "    https://scikit-learn.org/stable/modules/linear_model.html#logistic-regression\n",
      "  n_iter_i = _check_optimize_result(\n",
      "C:\\Users\\luang\\AppData\\Local\\Packages\\PythonSoftwareFoundation.Python.3.10_qbz5n2kfra8p0\\LocalCache\\local-packages\\Python310\\site-packages\\sklearn\\linear_model\\_logistic.py:458: ConvergenceWarning: lbfgs failed to converge (status=1):\n",
      "STOP: TOTAL NO. of ITERATIONS REACHED LIMIT.\n",
      "\n",
      "Increase the number of iterations (max_iter) or scale the data as shown in:\n",
      "    https://scikit-learn.org/stable/modules/preprocessing.html\n",
      "Please also refer to the documentation for alternative solver options:\n",
      "    https://scikit-learn.org/stable/modules/linear_model.html#logistic-regression\n",
      "  n_iter_i = _check_optimize_result(\n"
     ]
    },
    {
     "ename": "AttributeError",
     "evalue": "'list' object has no attribute 'mean'",
     "output_type": "error",
     "traceback": [
      "\u001b[1;31m---------------------------------------------------------------------------\u001b[0m",
      "\u001b[1;31mAttributeError\u001b[0m                            Traceback (most recent call last)",
      "Cell \u001b[1;32mIn[25], line 18\u001b[0m\n\u001b[0;32m     11\u001b[0m     AUC_data_RF\u001b[39m.\u001b[39mappend(RF_A[\u001b[39m1\u001b[39m][\u001b[39m2\u001b[39m])\n\u001b[0;32m     13\u001b[0m     \u001b[39m#ACC_data_Logit.append(tableau_modele_ACC_AUC(logit_A)[0])\u001b[39;00m\n\u001b[0;32m     14\u001b[0m     \u001b[39m#AUC_data_Logit.append(tableau_modele_ACC_AUC(logit_A)[1])\u001b[39;00m\n\u001b[0;32m     15\u001b[0m     \u001b[39m#ACC_data_RF.append([tableau_modele_ACC_AUC(RF_A)])\u001b[39;00m\n\u001b[0;32m     16\u001b[0m     \u001b[39m#AUC_data_RF.append([tableau_modele_ACC_AUC(RF_A)])\u001b[39;00m\n\u001b[1;32m---> 18\u001b[0m \u001b[39mprint\u001b[39m(\u001b[39m\"\u001b[39m\u001b[39mlogit AUC \u001b[39m\u001b[39m\"\u001b[39m,AUC_data_Logit\u001b[39m.\u001b[39;49mmean())\n\u001b[0;32m     19\u001b[0m \u001b[39mprint\u001b[39m(\u001b[39m\"\u001b[39m\u001b[39mRF AUC \u001b[39m\u001b[39m\"\u001b[39m,AUC_data_RF\u001b[39m.\u001b[39mmean())\n",
      "\u001b[1;31mAttributeError\u001b[0m: 'list' object has no attribute 'mean'"
     ]
    }
   ],
   "source": [
    "ACC_data_Logit = []\n",
    "AUC_data_Logit = []\n",
    "ACC_data_RF = []\n",
    "AUC_data_RF = []\n",
    "\n",
    "for i in range(0,11):\n",
    "    INDEX_FOLD_A = repartir(Data_A_X,2)\n",
    "    logit_A = performance_evaluation(Data_A_X,Data_A_Y,INDEX_FOLD_A,logit)\n",
    "    RF_A = performance_evaluation(Data_A_X,Data_A_Y,INDEX_FOLD_A,RF)\n",
    "    AUC_data_Logit.append(logit_A[1][2])\n",
    "    AUC_data_RF.append(RF_A[1][2])\n",
    "\n",
    "print(\"logit AUC \",AUC_data_Logit.mean())\n",
    "print(\"RF AUC \",AUC_data_RF.mean())"
   ]
  },
  {
   "cell_type": "code",
   "execution_count": 26,
   "metadata": {},
   "outputs": [
    {
     "name": "stdout",
     "output_type": "stream",
     "text": [
      "logit AUC  0.6715271146737691\n",
      "RF AUC  0.7128656834357251\n"
     ]
    }
   ],
   "source": [
    "print(\"logit AUC \",npy.array(AUC_data_Logit).mean())\n",
    "print(\"RF AUC \",npy.array(AUC_data_RF).mean())"
   ]
  },
  {
   "cell_type": "code",
   "execution_count": 113,
   "metadata": {},
   "outputs": [
    {
     "name": "stderr",
     "output_type": "stream",
     "text": [
      "C:\\Users\\luang\\AppData\\Local\\Packages\\PythonSoftwareFoundation.Python.3.10_qbz5n2kfra8p0\\LocalCache\\local-packages\\Python310\\site-packages\\sklearn\\linear_model\\_logistic.py:458: ConvergenceWarning: lbfgs failed to converge (status=1):\n",
      "STOP: TOTAL NO. of ITERATIONS REACHED LIMIT.\n",
      "\n",
      "Increase the number of iterations (max_iter) or scale the data as shown in:\n",
      "    https://scikit-learn.org/stable/modules/preprocessing.html\n",
      "Please also refer to the documentation for alternative solver options:\n",
      "    https://scikit-learn.org/stable/modules/linear_model.html#logistic-regression\n",
      "  n_iter_i = _check_optimize_result(\n"
     ]
    },
    {
     "ename": "AttributeError",
     "evalue": "'RandomForestClassifier' object has no attribute 'coeif_'",
     "output_type": "error",
     "traceback": [
      "\u001b[1;31m---------------------------------------------------------------------------\u001b[0m",
      "\u001b[1;31mAttributeError\u001b[0m                            Traceback (most recent call last)",
      "Cell \u001b[1;32mIn[113], line 4\u001b[0m\n\u001b[0;32m      2\u001b[0m plt\u001b[39m.\u001b[39mplot(npy\u001b[39m.\u001b[39marray(\u001b[39mrange\u001b[39m(\u001b[39m0\u001b[39m,\u001b[39m58\u001b[39m))\u001b[39m.\u001b[39mT,npy\u001b[39m.\u001b[39marray(RRF\u001b[39m.\u001b[39mcoef_)\u001b[39m.\u001b[39mT)\n\u001b[0;32m      3\u001b[0m RRF \u001b[39m=\u001b[39m RF\u001b[39m.\u001b[39mfit(Data_C_X[INDEX_FOLD_C[\u001b[39m1\u001b[39m][\u001b[39m1\u001b[39m]],Data_C_Y[INDEX_FOLD_C[\u001b[39m1\u001b[39m][\u001b[39m1\u001b[39m]])\n\u001b[1;32m----> 4\u001b[0m plt\u001b[39m.\u001b[39mplot(npy\u001b[39m.\u001b[39marray(\u001b[39mrange\u001b[39m(\u001b[39m0\u001b[39m,\u001b[39m58\u001b[39m))\u001b[39m.\u001b[39mT,npy\u001b[39m.\u001b[39marray(RRF\u001b[39m.\u001b[39;49mcoeif_)\u001b[39m.\u001b[39mT)\n",
      "\u001b[1;31mAttributeError\u001b[0m: 'RandomForestClassifier' object has no attribute 'coeif_'"
     ]
    },
    {
     "data": {
      "image/png": "[encoded data removed]",
      "text/plain": [
       "<Figure size 640x480 with 1 Axes>"
      ]
     },
     "metadata": {},
     "output_type": "display_data"
    }
   ],
   "source": [
    "RRF = logit.fit(Data_C_X[INDEX_FOLD_C[0][1]],Data_C_Y[INDEX_FOLD_C[0][1]])\n",
    "plt.plot(npy.array(range(0,58)).T,npy.array(RRF.coef_).T)\n",
    "RRF = RF.fit(Data_C_X[INDEX_FOLD_C[1][1]],Data_C_Y[INDEX_FOLD_C[1][1]])\n",
    "plt.plot(npy.array(range(0,58)).T,npy.array(RRF.coeif_).T)"
   ]
  },
  {
   "cell_type": "code",
   "execution_count": 110,
   "metadata": {},
   "outputs": [
    {
     "name": "stdout",
     "output_type": "stream",
     "text": [
      "[3.11294899e-03 2.08291846e-01 4.48183291e-03 4.10586437e-02\n",
      " 0.00000000e+00 1.14209365e-03 7.32560361e-03 3.30144060e-02\n",
      " 2.85846239e-04 2.92259104e-02 5.00705631e-02 6.27740428e-03\n",
      " 4.81679470e-05 1.52362248e-03 5.68376868e-03 5.72940404e-03\n",
      " 2.66026689e-03 8.03604201e-03 3.77475231e-02 1.63426267e-05\n",
      " 1.53495651e-02 4.39508480e-04 5.62066943e-05 1.08343898e-04\n",
      " 1.15272006e-02 8.77973417e-02 1.19928846e-01 8.69648821e-03\n",
      " 1.33568496e-02 1.09460979e-04 3.35327438e-05 1.02804370e-04\n",
      " 4.65954693e-04 1.20914229e-04 1.77530637e-05 6.16578300e-05\n",
      " 7.58555628e-05 3.41863182e-05 3.39783198e-02 1.13412051e-03\n",
      " 1.18728994e-04 3.48863928e-04 0.00000000e+00 2.66625084e-05\n",
      " 1.53123065e-04 3.69320704e-03 8.23732444e-03 2.90830053e-02\n",
      " 2.17386027e-02 1.08077527e-01 1.07497180e-02 4.96491965e-05\n",
      " 1.53076826e-03 3.65258796e-02 4.38684509e-03 1.96640739e-02\n",
      " 1.60458538e-02 4.43020691e-04]\n",
      "Index(['Default', 'NewCreditCustomer', 'LoanDate', 'VerificationType',\n",
      "       'Language_Estonian ', 'Language_English', 'Language_Russian',\n",
      "       'Language_Finnish', 'Language_German', 'Language_Slovakian',\n",
      "       'Country_EE', 'Country_ES', 'Country_FI', 'Country_SK', 'Age',\n",
      "       'Gender_woman', 'Gender_Undefined', 'Education', 'MaritalStatus',\n",
      "       'Unemployed', 'Partially_employed', 'Fully_employed', 'Self_employed',\n",
      "       'Entrepreneur', 'Retiree', 'AppliedAmount', 'Interest', 'LoanDuration',\n",
      "       'MonthlyPayment', 'UseOfLoan', 'EmploymentDurationCurrentEmployer_+5',\n",
      "       'EmploymentDurationCurrentEmployer_Trial',\n",
      "       'EmploymentDurationCurrentEmployer_max1',\n",
      "       'EmploymentDurationCurrentEmployer_max2',\n",
      "       'EmploymentDurationCurrentEmployer_max3',\n",
      "       'EmploymentDurationCurrentEmployer_max4',\n",
      "       'EmploymentDurationCurrentEmployer_max5',\n",
      "       'EmploymentDurationCurrentEmployer_retiree',\n",
      "       'EmploymentDurationCurrentEmployer_other',\n",
      "       'IncomeFromPrincipalEmployer', 'IncomeFromPension',\n",
      "       'IncomeFromFamilyAllowance', 'IncomeFromSocialWelfare',\n",
      "       'IncomeFromLeavePay', 'IncomeFromChildSupport', 'IncomeOther',\n",
      "       'IncomeTotal', 'LiabilitiesTotal', 'DebtToIncome', 'FreeCash',\n",
      "       'ProbabilityOfDefault', 'Rate_AA', 'Rate_A', 'Rate_B', 'Rate_C',\n",
      "       'Rate_D', 'Rate_E', 'Rate_F', 'Rate_HR'],\n",
      "      dtype='object')\n"
     ]
    }
   ],
   "source": [
    "#print(npy.array(RRF.feature_importances_).T)\n",
    "#print(Variable_C)"
   ]
  },
  {
   "cell_type": "code",
   "execution_count": 120,
   "metadata": {},
   "outputs": [
    {
     "name": "stdout",
     "output_type": "stream",
     "text": [
      "-0.21574536626853275 ___ VerificationType\n",
      "-0.2730773398176881 ___ Language_Estonian \n",
      "0.23729708788642537 ___ Language_German\n",
      "-0.24109176564324314 ___ Country_EE\n",
      "0.24152054171719492 ___ Country_ES\n",
      "-0.3369708353923306 ___ Gender_woman\n",
      "-0.2493947249319255 ___ Education\n",
      "0.21214305181619778 ___ ProbabilityOfDefault\n",
      "0.2192123800236252 ___ Rate_AA\n",
      "-0.5980905634028809 ___ Rate_C\n",
      "-0.22135012486835975 ___ Rate_D\n",
      "0.5204933693174078 ___ Rate_E\n",
      "0.28862750943409216 ___ Rate_F\n"
     ]
    }
   ],
   "source": [
    "ok = npy.array(logit.coef_)[0]\n",
    "#print(Variable_A[1:])\n",
    "out = ok,Variable_C[1:]\n",
    "def fds(ofdsf,numero):\n",
    "    print(ofdsf[0][numero])\n",
    "    print(ofdsf[1][numero])\n",
    "\n",
    "\n",
    "#fds(out,10)\n",
    "for i in range(0,len(out[0])-1):\n",
    "    if abs(out[0][i])>0.2:\n",
    "        print(out[0][i],\"___\",out[1][i])"
   ]
  }
 ],
 "metadata": {
  "kernelspec": {
   "display_name": "Python 3",
   "language": "python",
   "name": "python3"
  },
  "language_info": {
   "codemirror_mode": {
    "name": "ipython",
    "version": 3
   },
   "file_extension": ".py",
   "mimetype": "text/x-python",
   "name": "python",
   "nbconvert_exporter": "python",
   "pygments_lexer": "ipython3",
   "version": "3.10.11"
  },
  "orig_nbformat": 4
 },
 "nbformat": 4,
 "nbformat_minor": 2
}
